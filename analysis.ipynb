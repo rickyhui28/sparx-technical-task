{
 "cells": [
  {
   "cell_type": "markdown",
   "id": "9b2437ae",
   "metadata": {},
   "source": [
    "# Sparx Technical Task\n",
    "\n",
    "*Author: Ricky Hui*\n"
   ]
  },
  {
   "cell_type": "code",
   "execution_count": 3,
   "id": "46de772b",
   "metadata": {},
   "outputs": [],
   "source": [
    "# Core libraries\n",
    "import pandas as pd\n",
    "import numpy as np\n",
    "\n",
    "# Visualization\n",
    "import matplotlib.pyplot as plt\n",
    "import seaborn as sns\n",
    "\n",
    "# Machine learning\n",
    "from sklearn.model_selection import train_test_split, cross_val_score, GridSearchCV\n",
    "from sklearn.linear_model import LinearRegression\n",
    "from sklearn.tree import DecisionTreeRegressor\n",
    "from sklearn.metrics import mean_absolute_error, r2_score\n"
   ]
  },
  {
   "cell_type": "code",
   "execution_count": 4,
   "id": "d66c76c7-fc8e-439c-9377-41a77f1afab8",
   "metadata": {},
   "outputs": [],
   "source": [
    "#Import Library from helpers.py\n",
    "from helpers import clean_data, summary_statistics, plot_correlation_matrix, plot_distributions\n"
   ]
  },
  {
   "cell_type": "code",
   "execution_count": 5,
   "id": "e8f8b757",
   "metadata": {},
   "outputs": [],
   "source": [
    "df = pd.read_csv(\"data/personalized_learning_dataset.csv\")"
   ]
  },
  {
   "cell_type": "code",
   "execution_count": 6,
   "id": "7bc09a17-3596-492a-a664-fa83d15882cd",
   "metadata": {},
   "outputs": [
    {
     "data": {
      "text/html": [
       "<div>\n",
       "<style scoped>\n",
       "    .dataframe tbody tr th:only-of-type {\n",
       "        vertical-align: middle;\n",
       "    }\n",
       "\n",
       "    .dataframe tbody tr th {\n",
       "        vertical-align: top;\n",
       "    }\n",
       "\n",
       "    .dataframe thead th {\n",
       "        text-align: right;\n",
       "    }\n",
       "</style>\n",
       "<table border=\"1\" class=\"dataframe\">\n",
       "  <thead>\n",
       "    <tr style=\"text-align: right;\">\n",
       "      <th></th>\n",
       "      <th>Age</th>\n",
       "      <th>Time_Spent_on_Videos</th>\n",
       "      <th>Quiz_Attempts</th>\n",
       "      <th>Quiz_Scores</th>\n",
       "      <th>Forum_Participation</th>\n",
       "      <th>Assignment_Completion_Rate</th>\n",
       "      <th>Final_Exam_Score</th>\n",
       "      <th>Feedback_Score</th>\n",
       "    </tr>\n",
       "  </thead>\n",
       "  <tbody>\n",
       "    <tr>\n",
       "      <th>count</th>\n",
       "      <td>10000.000000</td>\n",
       "      <td>10000.000000</td>\n",
       "      <td>10000.000000</td>\n",
       "      <td>10000.000000</td>\n",
       "      <td>10000.000000</td>\n",
       "      <td>10000.000000</td>\n",
       "      <td>10000.000000</td>\n",
       "      <td>10000.000000</td>\n",
       "    </tr>\n",
       "    <tr>\n",
       "      <th>mean</th>\n",
       "      <td>32.137700</td>\n",
       "      <td>255.375400</td>\n",
       "      <td>2.500500</td>\n",
       "      <td>64.578600</td>\n",
       "      <td>24.616200</td>\n",
       "      <td>69.546800</td>\n",
       "      <td>64.697000</td>\n",
       "      <td>3.012600</td>\n",
       "    </tr>\n",
       "    <tr>\n",
       "      <th>std</th>\n",
       "      <td>10.062647</td>\n",
       "      <td>141.656392</td>\n",
       "      <td>1.122642</td>\n",
       "      <td>20.289125</td>\n",
       "      <td>14.330305</td>\n",
       "      <td>17.360782</td>\n",
       "      <td>20.096417</td>\n",
       "      <td>1.421423</td>\n",
       "    </tr>\n",
       "    <tr>\n",
       "      <th>min</th>\n",
       "      <td>15.000000</td>\n",
       "      <td>10.000000</td>\n",
       "      <td>1.000000</td>\n",
       "      <td>30.000000</td>\n",
       "      <td>0.000000</td>\n",
       "      <td>40.000000</td>\n",
       "      <td>30.000000</td>\n",
       "      <td>1.000000</td>\n",
       "    </tr>\n",
       "    <tr>\n",
       "      <th>25%</th>\n",
       "      <td>24.000000</td>\n",
       "      <td>131.000000</td>\n",
       "      <td>1.000000</td>\n",
       "      <td>47.000000</td>\n",
       "      <td>12.000000</td>\n",
       "      <td>54.000000</td>\n",
       "      <td>47.000000</td>\n",
       "      <td>2.000000</td>\n",
       "    </tr>\n",
       "    <tr>\n",
       "      <th>50%</th>\n",
       "      <td>32.000000</td>\n",
       "      <td>257.000000</td>\n",
       "      <td>3.000000</td>\n",
       "      <td>65.000000</td>\n",
       "      <td>25.000000</td>\n",
       "      <td>69.000000</td>\n",
       "      <td>65.000000</td>\n",
       "      <td>3.000000</td>\n",
       "    </tr>\n",
       "    <tr>\n",
       "      <th>75%</th>\n",
       "      <td>41.000000</td>\n",
       "      <td>378.000000</td>\n",
       "      <td>4.000000</td>\n",
       "      <td>82.000000</td>\n",
       "      <td>37.000000</td>\n",
       "      <td>85.000000</td>\n",
       "      <td>82.000000</td>\n",
       "      <td>4.000000</td>\n",
       "    </tr>\n",
       "    <tr>\n",
       "      <th>max</th>\n",
       "      <td>49.000000</td>\n",
       "      <td>499.000000</td>\n",
       "      <td>4.000000</td>\n",
       "      <td>99.000000</td>\n",
       "      <td>49.000000</td>\n",
       "      <td>99.000000</td>\n",
       "      <td>99.000000</td>\n",
       "      <td>5.000000</td>\n",
       "    </tr>\n",
       "  </tbody>\n",
       "</table>\n",
       "</div>"
      ],
      "text/plain": [
       "                Age  Time_Spent_on_Videos  Quiz_Attempts   Quiz_Scores  \\\n",
       "count  10000.000000          10000.000000   10000.000000  10000.000000   \n",
       "mean      32.137700            255.375400       2.500500     64.578600   \n",
       "std       10.062647            141.656392       1.122642     20.289125   \n",
       "min       15.000000             10.000000       1.000000     30.000000   \n",
       "25%       24.000000            131.000000       1.000000     47.000000   \n",
       "50%       32.000000            257.000000       3.000000     65.000000   \n",
       "75%       41.000000            378.000000       4.000000     82.000000   \n",
       "max       49.000000            499.000000       4.000000     99.000000   \n",
       "\n",
       "       Forum_Participation  Assignment_Completion_Rate  Final_Exam_Score  \\\n",
       "count         10000.000000                10000.000000      10000.000000   \n",
       "mean             24.616200                   69.546800         64.697000   \n",
       "std              14.330305                   17.360782         20.096417   \n",
       "min               0.000000                   40.000000         30.000000   \n",
       "25%              12.000000                   54.000000         47.000000   \n",
       "50%              25.000000                   69.000000         65.000000   \n",
       "75%              37.000000                   85.000000         82.000000   \n",
       "max              49.000000                   99.000000         99.000000   \n",
       "\n",
       "       Feedback_Score  \n",
       "count    10000.000000  \n",
       "mean         3.012600  \n",
       "std          1.421423  \n",
       "min          1.000000  \n",
       "25%          2.000000  \n",
       "50%          3.000000  \n",
       "75%          4.000000  \n",
       "max          5.000000  "
      ]
     },
     "execution_count": 6,
     "metadata": {},
     "output_type": "execute_result"
    }
   ],
   "source": [
    "df.describe()"
   ]
  },
  {
   "cell_type": "code",
   "execution_count": 9,
   "id": "4914406f-2d4d-43a3-874d-caabb647abd8",
   "metadata": {
    "scrolled": true
   },
   "outputs": [
    {
     "data": {
      "image/png": "[encoded data removed]",
      "text/plain": [
       "<Figure size 800x500 with 1 Axes>"
      ]
     },
     "metadata": {},
     "output_type": "display_data"
    }
   ],
   "source": [
    "plot_distributions(df, [\"Age\"])\n"
   ]
  },
  {
   "cell_type": "markdown",
   "id": "caa2fe4b-0a66-43dc-9049-170cf3c0677d",
   "metadata": {},
   "source": [
    "# Predicitve Modelling "
   ]
  },
  {
   "cell_type": "markdown",
   "id": "6d12c736",
   "metadata": {},
   "source": [
    "##  Train/Test Split"
   ]
  },
  {
   "cell_type": "code",
   "execution_count": 13,
   "id": "cc71092e",
   "metadata": {},
   "outputs": [],
   "source": [
    "X = df[['Age', 'Quiz_Scores']]\n",
    "y = df['Final_Exam_Score']\n",
    "X_train, X_test, y_train, y_test = train_test_split(X, y, test_size=0.2, random_state=42)"
   ]
  },
  {
   "cell_type": "markdown",
   "id": "78d51def",
   "metadata": {},
   "source": [
    "Model 1: Linear Regression"
   ]
  },
  {
   "cell_type": "code",
   "execution_count": 14,
   "id": "3451ced2",
   "metadata": {},
   "outputs": [
    {
     "name": "stdout",
     "output_type": "stream",
     "text": [
      "Linear Regression MAE: 17.61, R²: -0.00\n"
     ]
    }
   ],
   "source": [
    "lr = LinearRegression()\n",
    "lr.fit(X_train, y_train)\n",
    "y_pred_lr = lr.predict(X_test)\n",
    "mae_lr = mean_absolute_error(y_test, y_pred_lr)\n",
    "r2_lr = r2_score(y_test, y_pred_lr)\n",
    "print(f\"Linear Regression MAE: {mae_lr:.2f}, R²: {r2_lr:.2f}\")"
   ]
  },
  {
   "cell_type": "markdown",
   "id": "342b46ce",
   "metadata": {},
   "source": [
    "Model 2: Decision Tree Regressor"
   ]
  },
  {
   "cell_type": "code",
   "execution_count": 15,
   "id": "5c9dd498",
   "metadata": {},
   "outputs": [
    {
     "name": "stdout",
     "output_type": "stream",
     "text": [
      "Decision Tree MAE: 17.61, R²: -0.00\n"
     ]
    }
   ],
   "source": [
    "tree = DecisionTreeRegressor(max_depth=3, random_state=42)\n",
    "tree.fit(X_train, y_train)\n",
    "y_pred_tree = tree.predict(X_test)\n",
    "mae_tree = mean_absolute_error(y_test, y_pred_tree)\n",
    "r2_tree = r2_score(y_test, y_pred_tree)\n",
    "print(f\"Decision Tree MAE: {mae_tree:.2f}, R²: {r2_tree:.2f}\")"
   ]
  },
  {
   "cell_type": "markdown",
   "id": "5e500927",
   "metadata": {},
   "source": [
    "## 🔁 5. Cross-Validation"
   ]
  },
  {
   "cell_type": "code",
   "execution_count": 16,
   "id": "595e6e88",
   "metadata": {},
   "outputs": [
    {
     "name": "stdout",
     "output_type": "stream",
     "text": [
      "Decision Tree CV MAE: 17.39\n"
     ]
    }
   ],
   "source": [
    "cv_scores = cross_val_score(tree, X, y, cv=5, scoring='neg_mean_absolute_error')\n",
    "print(f\"Decision Tree CV MAE: {-cv_scores.mean():.2f}\")"
   ]
  },
  {
   "cell_type": "markdown",
   "id": "712088ad",
   "metadata": {},
   "source": [
    "## 🛠️ 6. Simple Hyperparameter Tuning"
   ]
  },
  {
   "cell_type": "code",
   "execution_count": 17,
   "id": "c14761cd",
   "metadata": {},
   "outputs": [
    {
     "name": "stdout",
     "output_type": "stream",
     "text": [
      "Best max_depth: 2\n"
     ]
    }
   ],
   "source": [
    "param_grid = {'max_depth': [2, 3, 4, 5]}\n",
    "grid = GridSearchCV(DecisionTreeRegressor(random_state=42), param_grid, cv=3, scoring='neg_mean_absolute_error')\n",
    "grid.fit(X_train, y_train)\n",
    "print(f\"Best max_depth: {grid.best_params_['max_depth']}\")"
   ]
  },
  {
   "cell_type": "markdown",
   "id": "0d9c3eb9",
   "metadata": {},
   "source": [
    "## ✅ 7. Summary & Recommendations\n",
    "\n",
    "- **Linear Regression** MAE and R² give a quick baseline.\n",
    "- **Decision Tree** allows easy interpretation and handles non-linearity.\n",
    "\n",
    "**Recommendation:**\n",
    "Encourage students to engage at least 3 sessions/week. A Decision Tree model shows performance increases sharply past this threshold. Suggest using this model for future prediction dashboards."
   ]
  }
 ],
 "metadata": {
  "kernelspec": {
   "display_name": "Python 3 (ipykernel)",
   "language": "python",
   "name": "python3"
  },
  "language_info": {
   "codemirror_mode": {
    "name": "ipython",
    "version": 3
   },
   "file_extension": ".py",
   "mimetype": "text/x-python",
   "name": "python",
   "nbconvert_exporter": "python",
   "pygments_lexer": "ipython3",
   "version": "3.9.6"
  }
 },
 "nbformat": 4,
 "nbformat_minor": 5
}
